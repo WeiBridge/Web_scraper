{
 "cells": [
  {
   "cell_type": "code",
   "execution_count": 1,
   "metadata": {},
   "outputs": [],
   "source": [
    "from bs4 import BeautifulSoup\n",
    "import requests  \n",
    "import csv\n",
    "# import chromedriver_binary\n",
    "\n",
    "\n",
    "#new added\n",
    "import time\n",
    "import random\n",
    "from selenium import webdriver\n",
    "from selenium.webdriver.chrome.options import Options\n",
    "# from webdriver_manager.chrome import ChromeDriverManager\n",
    "from bs4 import BeautifulSoup"
   ]
  },
  {
   "cell_type": "code",
   "execution_count": 2,
   "metadata": {},
   "outputs": [],
   "source": [
    "import os\n",
    "os.getcwd()\n",
    "os.chdir('Crowdfunding _Web Scraping')"
   ]
  },
  {
   "cell_type": "code",
   "execution_count": 8,
   "metadata": {},
   "outputs": [
    {
     "name": "stdout",
     "output_type": "stream",
     "text": [
      "0001674082 020-22819 $335,111 in investments. Payments are still being processed; final number is yet to be determined. The deadline date was set to today to work around an EDGAR glitch but the offering actually closed on 08-09-16.\n",
      "\n",
      "0001674082 020-22819 The final number is $309,807.00 in investments. The deadline date was set to today to work around an EDGAR glitch but the offering actually closed on 08-09-16.\n",
      "\n",
      "0001674180 020-22824 Native Hostel Austin LLC raised a total of $396,500.\n",
      "\n",
      "0001674249 020-22826 $189,229.00 in investments. Payments are still being processed; final number is yet to be determined.\n",
      "\n",
      "0001671074 020-22829 Total Investment: $101,386.00. Due to a glitch in Edgar, C-U filings are not accepted once the deadline date has passed. Therefore, the deadline date was set to today (in this filing) but the offering actually closed on 07-28-2016.\n",
      "\n",
      "0001674379 020-22830 $59,550 in investments. Payments are still being processed; final number is yet to be determined. The deadline date was set to today to work around an EDGAR glitch but the offering actually closed on 10-11-16.\n",
      "\n",
      "0001674379 020-22830 The final number is $57,500.00 in investments. The deadline date was set to today to work around an EDGAR glitch but the offering actually closed on 10-11-2016\n",
      "\n",
      "0001656615 020-22831 The amount of securities at the close of the offering is 184,813 shares for the amount of $51,747.64.\n",
      "\n",
      "0001674163 020-22837 Total Investment: $999,999.00. Shares Sold: 142,857. Due to a glitch in Edgar, C-U filings are not accepted once the deadline date has passed. Therefore, the deadline date was set to today (in this filing) but the offering actually closed on 08-14-16.\n",
      "\n",
      "0001674207 020-22839 Due to an Edgar glitch, today is the first day we could file. The actual administrative time in settling the accounts takes longer than the filing deadline: $170,000 is our best estimate for the total amount of securities that will be sold.\n",
      "\n"
     ]
    }
   ],
   "source": [
    "csv_file=open('formc_scrape_3.csv','w',newline='')\n",
    "csv_writer=csv.writer(csv_file)\n",
    "csv_writer.writerow(['cik','filenumber','update'])\n",
    "\n",
    " \n",
    "# chrome_options = Options()\n",
    "# chrome_options.add_argument(\"--headless\")             #Still have errors even using headless selenium\n",
    "# driver = webdriver.Chrome(options=chrome_options)\n",
    "\n",
    "driver = webdriver.Chrome()\n",
    "\n",
    "with open('formc_url_3.csv','r') as url_file:\n",
    "    csv_reader=csv.reader(url_file)\n",
    "    \n",
    "    \n",
    "\n",
    "    next(csv_reader)\n",
    "    \n",
    "        \n",
    "    for url in url_file:\n",
    "        \n",
    "        \n",
    "        \n",
    "        driver.get(url)\n",
    "        time.sleep(random.random() * 3)  # wait (0~1)*3 second \n",
    "        html = driver.page_source\n",
    "        soup = BeautifulSoup(html,'xml')     \n",
    "        cik=soup.find('filerCik').text\n",
    "        file_number=soup.find('fileNumber').text\n",
    "        \n",
    "        try:\n",
    "            update=soup.find('progressUpdate').text\n",
    "        except Exception as e:\n",
    "            update=None\n",
    "        \n",
    "        print(cik,file_number,update)\n",
    "        print()\n",
    "        \n",
    "        csv_writer.writerow([cik,file_number,update])\n",
    "        \n",
    "driver.quit()       #close the webpage \n",
    "csv_file.close()"
   ]
  },
  {
   "cell_type": "code",
   "execution_count": null,
   "metadata": {},
   "outputs": [],
   "source": []
  }
 ],
 "metadata": {
  "kernelspec": {
   "display_name": "Python 3",
   "language": "python",
   "name": "python3"
  },
  "language_info": {
   "codemirror_mode": {
    "name": "ipython",
    "version": 3
   },
   "file_extension": ".py",
   "mimetype": "text/x-python",
   "name": "python",
   "nbconvert_exporter": "python",
   "pygments_lexer": "ipython3",
   "version": "3.8.5"
  }
 },
 "nbformat": 4,
 "nbformat_minor": 4
}
